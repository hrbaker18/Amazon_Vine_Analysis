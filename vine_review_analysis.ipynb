{
 "cells": [
  {
   "cell_type": "code",
   "execution_count": 2,
   "metadata": {},
   "outputs": [],
   "source": [
    "import pandas as pd\n",
    "import matplotlib.pyplot as plt"
   ]
  },
  {
   "cell_type": "code",
   "execution_count": 4,
   "metadata": {},
   "outputs": [],
   "source": [
    "df = pd.read_csv('vine-data.csv')"
   ]
  },
  {
   "cell_type": "code",
   "execution_count": 5,
   "metadata": {},
   "outputs": [
    {
     "data": {
      "text/html": [
       "<div>\n",
       "<style scoped>\n",
       "    .dataframe tbody tr th:only-of-type {\n",
       "        vertical-align: middle;\n",
       "    }\n",
       "\n",
       "    .dataframe tbody tr th {\n",
       "        vertical-align: top;\n",
       "    }\n",
       "\n",
       "    .dataframe thead th {\n",
       "        text-align: right;\n",
       "    }\n",
       "</style>\n",
       "<table border=\"1\" class=\"dataframe\">\n",
       "  <thead>\n",
       "    <tr style=\"text-align: right;\">\n",
       "      <th></th>\n",
       "      <th>review_id</th>\n",
       "      <th>star_rating</th>\n",
       "      <th>helpful_votes</th>\n",
       "      <th>total_votes</th>\n",
       "      <th>vine</th>\n",
       "      <th>verified_purchase</th>\n",
       "    </tr>\n",
       "  </thead>\n",
       "  <tbody>\n",
       "    <tr>\n",
       "      <th>0</th>\n",
       "      <td>R27ZP1F1CD0C3Y</td>\n",
       "      <td>5</td>\n",
       "      <td>0</td>\n",
       "      <td>0</td>\n",
       "      <td>N</td>\n",
       "      <td>Y</td>\n",
       "    </tr>\n",
       "    <tr>\n",
       "      <th>1</th>\n",
       "      <td>RJ7RSBCHUDNNE</td>\n",
       "      <td>5</td>\n",
       "      <td>0</td>\n",
       "      <td>0</td>\n",
       "      <td>N</td>\n",
       "      <td>Y</td>\n",
       "    </tr>\n",
       "    <tr>\n",
       "      <th>2</th>\n",
       "      <td>R1HVYBSKLQJI5S</td>\n",
       "      <td>5</td>\n",
       "      <td>0</td>\n",
       "      <td>0</td>\n",
       "      <td>N</td>\n",
       "      <td>Y</td>\n",
       "    </tr>\n",
       "    <tr>\n",
       "      <th>3</th>\n",
       "      <td>R2HAXF0IIYQBIR</td>\n",
       "      <td>1</td>\n",
       "      <td>0</td>\n",
       "      <td>0</td>\n",
       "      <td>N</td>\n",
       "      <td>Y</td>\n",
       "    </tr>\n",
       "    <tr>\n",
       "      <th>4</th>\n",
       "      <td>RNYLPX611NB7Q</td>\n",
       "      <td>5</td>\n",
       "      <td>0</td>\n",
       "      <td>0</td>\n",
       "      <td>N</td>\n",
       "      <td>Y</td>\n",
       "    </tr>\n",
       "  </tbody>\n",
       "</table>\n",
       "</div>"
      ],
      "text/plain": [
       "        review_id  star_rating  helpful_votes  total_votes vine  \\\n",
       "0  R27ZP1F1CD0C3Y            5              0            0    N   \n",
       "1   RJ7RSBCHUDNNE            5              0            0    N   \n",
       "2  R1HVYBSKLQJI5S            5              0            0    N   \n",
       "3  R2HAXF0IIYQBIR            1              0            0    N   \n",
       "4   RNYLPX611NB7Q            5              0            0    N   \n",
       "\n",
       "  verified_purchase  \n",
       "0                 Y  \n",
       "1                 Y  \n",
       "2                 Y  \n",
       "3                 Y  \n",
       "4                 Y  "
      ]
     },
     "execution_count": 5,
     "metadata": {},
     "output_type": "execute_result"
    }
   ],
   "source": [
    "df.head()"
   ]
  },
  {
   "cell_type": "code",
   "execution_count": 6,
   "metadata": {},
   "outputs": [
    {
     "name": "stdout",
     "output_type": "stream",
     "text": [
      "<class 'pandas.core.frame.DataFrame'>\n",
      "RangeIndex: 149086 entries, 0 to 149085\n",
      "Data columns (total 6 columns):\n",
      " #   Column             Non-Null Count   Dtype \n",
      "---  ------             --------------   ----- \n",
      " 0   review_id          149086 non-null  object\n",
      " 1   star_rating        149086 non-null  int64 \n",
      " 2   helpful_votes      149086 non-null  int64 \n",
      " 3   total_votes        149086 non-null  int64 \n",
      " 4   vine               149086 non-null  object\n",
      " 5   verified_purchase  149086 non-null  object\n",
      "dtypes: int64(3), object(3)\n",
      "memory usage: 6.8+ MB\n"
     ]
    }
   ],
   "source": [
    "df.info()"
   ]
  },
  {
   "cell_type": "code",
   "execution_count": 7,
   "metadata": {},
   "outputs": [
    {
     "name": "stdout",
     "output_type": "stream",
     "text": [
      "           review_id  star_rating  helpful_votes  total_votes vine  \\\n",
      "685   R36PQ9D8L2AAOH            5             30           32    N   \n",
      "1786  R23GHBE86II0SK            5             18           21    N   \n",
      "2020  R18KVPY0TO33BM            5            241          248    N   \n",
      "2429  R2ZB78BDM8BRCF            1             99          113    N   \n",
      "4971  R2JMJOWGM7V7NX            4             20           20    N   \n",
      "\n",
      "     verified_purchase  \n",
      "685                  Y  \n",
      "1786                 Y  \n",
      "2020                 Y  \n",
      "2429                 Y  \n",
      "4971                 N  \n"
     ]
    }
   ],
   "source": [
    "#Filter data where total_votes is greater than or equal to 20\n",
    "filtered_df = df.loc[df['total_votes'] >= 20]\n",
    "print(filtered_df.head())"
   ]
  },
  {
   "cell_type": "code",
   "execution_count": 8,
   "metadata": {},
   "outputs": [
    {
     "data": {
      "text/html": [
       "<div>\n",
       "<style scoped>\n",
       "    .dataframe tbody tr th:only-of-type {\n",
       "        vertical-align: middle;\n",
       "    }\n",
       "\n",
       "    .dataframe tbody tr th {\n",
       "        vertical-align: top;\n",
       "    }\n",
       "\n",
       "    .dataframe thead th {\n",
       "        text-align: right;\n",
       "    }\n",
       "</style>\n",
       "<table border=\"1\" class=\"dataframe\">\n",
       "  <thead>\n",
       "    <tr style=\"text-align: right;\">\n",
       "      <th></th>\n",
       "      <th>review_id</th>\n",
       "      <th>star_rating</th>\n",
       "      <th>helpful_votes</th>\n",
       "      <th>total_votes</th>\n",
       "      <th>vine</th>\n",
       "      <th>verified_purchase</th>\n",
       "    </tr>\n",
       "  </thead>\n",
       "  <tbody>\n",
       "    <tr>\n",
       "      <th>685</th>\n",
       "      <td>R36PQ9D8L2AAOH</td>\n",
       "      <td>5</td>\n",
       "      <td>30</td>\n",
       "      <td>32</td>\n",
       "      <td>N</td>\n",
       "      <td>Y</td>\n",
       "    </tr>\n",
       "    <tr>\n",
       "      <th>1786</th>\n",
       "      <td>R23GHBE86II0SK</td>\n",
       "      <td>5</td>\n",
       "      <td>18</td>\n",
       "      <td>21</td>\n",
       "      <td>N</td>\n",
       "      <td>Y</td>\n",
       "    </tr>\n",
       "    <tr>\n",
       "      <th>2020</th>\n",
       "      <td>R18KVPY0TO33BM</td>\n",
       "      <td>5</td>\n",
       "      <td>241</td>\n",
       "      <td>248</td>\n",
       "      <td>N</td>\n",
       "      <td>Y</td>\n",
       "    </tr>\n",
       "    <tr>\n",
       "      <th>2429</th>\n",
       "      <td>R2ZB78BDM8BRCF</td>\n",
       "      <td>1</td>\n",
       "      <td>99</td>\n",
       "      <td>113</td>\n",
       "      <td>N</td>\n",
       "      <td>Y</td>\n",
       "    </tr>\n",
       "    <tr>\n",
       "      <th>4971</th>\n",
       "      <td>R2JMJOWGM7V7NX</td>\n",
       "      <td>4</td>\n",
       "      <td>20</td>\n",
       "      <td>20</td>\n",
       "      <td>N</td>\n",
       "      <td>N</td>\n",
       "    </tr>\n",
       "  </tbody>\n",
       "</table>\n",
       "</div>"
      ],
      "text/plain": [
       "           review_id  star_rating  helpful_votes  total_votes vine  \\\n",
       "685   R36PQ9D8L2AAOH            5             30           32    N   \n",
       "1786  R23GHBE86II0SK            5             18           21    N   \n",
       "2020  R18KVPY0TO33BM            5            241          248    N   \n",
       "2429  R2ZB78BDM8BRCF            1             99          113    N   \n",
       "4971  R2JMJOWGM7V7NX            4             20           20    N   \n",
       "\n",
       "     verified_purchase  \n",
       "685                  Y  \n",
       "1786                 Y  \n",
       "2020                 Y  \n",
       "2429                 Y  \n",
       "4971                 N  "
      ]
     },
     "execution_count": 8,
     "metadata": {},
     "output_type": "execute_result"
    }
   ],
   "source": [
    "#Filter the new Dataframe to create a new Dataframe where the number of helpful_votes divided by the number of total_votes is greater than or equal to 50%\n",
    "\n",
    "helpful_votes_df = filtered_df.loc[(filtered_df['helpful_votes'] / filtered_df['total_votes']) >= 0.5]\n",
    "helpful_votes_df.head()"
   ]
  },
  {
   "cell_type": "code",
   "execution_count": 12,
   "metadata": {},
   "outputs": [
    {
     "data": {
      "text/html": [
       "<div>\n",
       "<style scoped>\n",
       "    .dataframe tbody tr th:only-of-type {\n",
       "        vertical-align: middle;\n",
       "    }\n",
       "\n",
       "    .dataframe tbody tr th {\n",
       "        vertical-align: top;\n",
       "    }\n",
       "\n",
       "    .dataframe thead th {\n",
       "        text-align: right;\n",
       "    }\n",
       "</style>\n",
       "<table border=\"1\" class=\"dataframe\">\n",
       "  <thead>\n",
       "    <tr style=\"text-align: right;\">\n",
       "      <th></th>\n",
       "      <th>review_id</th>\n",
       "      <th>star_rating</th>\n",
       "      <th>helpful_votes</th>\n",
       "      <th>total_votes</th>\n",
       "      <th>vine</th>\n",
       "      <th>verified_purchase</th>\n",
       "    </tr>\n",
       "  </thead>\n",
       "  <tbody>\n",
       "  </tbody>\n",
       "</table>\n",
       "</div>"
      ],
      "text/plain": [
       "Empty DataFrame\n",
       "Columns: [review_id, star_rating, helpful_votes, total_votes, vine, verified_purchase]\n",
       "Index: []"
      ]
     },
     "execution_count": 12,
     "metadata": {},
     "output_type": "execute_result"
    }
   ],
   "source": [
    "# Filter Dataframe to determine whether or not review was part of the Vine program (paid)\n",
    "\n",
    "vine_reviews = helpful_votes_df[helpful_votes_df['vine'] == 'Y']\n",
    "vine_reviews.head(20)"
   ]
  },
  {
   "cell_type": "code",
   "execution_count": 13,
   "metadata": {},
   "outputs": [
    {
     "data": {
      "text/html": [
       "<div>\n",
       "<style scoped>\n",
       "    .dataframe tbody tr th:only-of-type {\n",
       "        vertical-align: middle;\n",
       "    }\n",
       "\n",
       "    .dataframe tbody tr th {\n",
       "        vertical-align: top;\n",
       "    }\n",
       "\n",
       "    .dataframe thead th {\n",
       "        text-align: right;\n",
       "    }\n",
       "</style>\n",
       "<table border=\"1\" class=\"dataframe\">\n",
       "  <thead>\n",
       "    <tr style=\"text-align: right;\">\n",
       "      <th></th>\n",
       "      <th>review_id</th>\n",
       "      <th>star_rating</th>\n",
       "      <th>helpful_votes</th>\n",
       "      <th>total_votes</th>\n",
       "      <th>vine</th>\n",
       "      <th>verified_purchase</th>\n",
       "    </tr>\n",
       "  </thead>\n",
       "  <tbody>\n",
       "    <tr>\n",
       "      <th>685</th>\n",
       "      <td>R36PQ9D8L2AAOH</td>\n",
       "      <td>5</td>\n",
       "      <td>30</td>\n",
       "      <td>32</td>\n",
       "      <td>N</td>\n",
       "      <td>Y</td>\n",
       "    </tr>\n",
       "    <tr>\n",
       "      <th>1786</th>\n",
       "      <td>R23GHBE86II0SK</td>\n",
       "      <td>5</td>\n",
       "      <td>18</td>\n",
       "      <td>21</td>\n",
       "      <td>N</td>\n",
       "      <td>Y</td>\n",
       "    </tr>\n",
       "    <tr>\n",
       "      <th>2020</th>\n",
       "      <td>R18KVPY0TO33BM</td>\n",
       "      <td>5</td>\n",
       "      <td>241</td>\n",
       "      <td>248</td>\n",
       "      <td>N</td>\n",
       "      <td>Y</td>\n",
       "    </tr>\n",
       "    <tr>\n",
       "      <th>2429</th>\n",
       "      <td>R2ZB78BDM8BRCF</td>\n",
       "      <td>1</td>\n",
       "      <td>99</td>\n",
       "      <td>113</td>\n",
       "      <td>N</td>\n",
       "      <td>Y</td>\n",
       "    </tr>\n",
       "    <tr>\n",
       "      <th>4971</th>\n",
       "      <td>R2JMJOWGM7V7NX</td>\n",
       "      <td>4</td>\n",
       "      <td>20</td>\n",
       "      <td>20</td>\n",
       "      <td>N</td>\n",
       "      <td>N</td>\n",
       "    </tr>\n",
       "    <tr>\n",
       "      <th>6104</th>\n",
       "      <td>R10ORTN0I3G5B9</td>\n",
       "      <td>1</td>\n",
       "      <td>19</td>\n",
       "      <td>26</td>\n",
       "      <td>N</td>\n",
       "      <td>Y</td>\n",
       "    </tr>\n",
       "    <tr>\n",
       "      <th>6715</th>\n",
       "      <td>R1D1VPJBTP1WG8</td>\n",
       "      <td>1</td>\n",
       "      <td>38</td>\n",
       "      <td>51</td>\n",
       "      <td>N</td>\n",
       "      <td>Y</td>\n",
       "    </tr>\n",
       "    <tr>\n",
       "      <th>6994</th>\n",
       "      <td>R3Q3ULUTULAQYH</td>\n",
       "      <td>1</td>\n",
       "      <td>22</td>\n",
       "      <td>29</td>\n",
       "      <td>N</td>\n",
       "      <td>Y</td>\n",
       "    </tr>\n",
       "    <tr>\n",
       "      <th>7198</th>\n",
       "      <td>R1SHEELXA1IXQP</td>\n",
       "      <td>5</td>\n",
       "      <td>45</td>\n",
       "      <td>57</td>\n",
       "      <td>N</td>\n",
       "      <td>Y</td>\n",
       "    </tr>\n",
       "    <tr>\n",
       "      <th>7341</th>\n",
       "      <td>R1IQJ99JOPJOE4</td>\n",
       "      <td>5</td>\n",
       "      <td>73</td>\n",
       "      <td>94</td>\n",
       "      <td>N</td>\n",
       "      <td>N</td>\n",
       "    </tr>\n",
       "    <tr>\n",
       "      <th>7608</th>\n",
       "      <td>R32PHGNOUNJVY2</td>\n",
       "      <td>1</td>\n",
       "      <td>111</td>\n",
       "      <td>150</td>\n",
       "      <td>N</td>\n",
       "      <td>Y</td>\n",
       "    </tr>\n",
       "    <tr>\n",
       "      <th>7764</th>\n",
       "      <td>R32HQ18L7FOP3N</td>\n",
       "      <td>1</td>\n",
       "      <td>18</td>\n",
       "      <td>23</td>\n",
       "      <td>N</td>\n",
       "      <td>N</td>\n",
       "    </tr>\n",
       "    <tr>\n",
       "      <th>9166</th>\n",
       "      <td>R2IPGL0F4OCNO9</td>\n",
       "      <td>1</td>\n",
       "      <td>18</td>\n",
       "      <td>24</td>\n",
       "      <td>N</td>\n",
       "      <td>N</td>\n",
       "    </tr>\n",
       "    <tr>\n",
       "      <th>9405</th>\n",
       "      <td>R4RNS35ZXYWSU</td>\n",
       "      <td>2</td>\n",
       "      <td>52</td>\n",
       "      <td>59</td>\n",
       "      <td>N</td>\n",
       "      <td>Y</td>\n",
       "    </tr>\n",
       "    <tr>\n",
       "      <th>10513</th>\n",
       "      <td>R5S7HIQAWL5QS</td>\n",
       "      <td>5</td>\n",
       "      <td>48</td>\n",
       "      <td>49</td>\n",
       "      <td>N</td>\n",
       "      <td>Y</td>\n",
       "    </tr>\n",
       "    <tr>\n",
       "      <th>10652</th>\n",
       "      <td>R12LGU9RL181NG</td>\n",
       "      <td>1</td>\n",
       "      <td>5987</td>\n",
       "      <td>6323</td>\n",
       "      <td>N</td>\n",
       "      <td>Y</td>\n",
       "    </tr>\n",
       "    <tr>\n",
       "      <th>11042</th>\n",
       "      <td>R1ZMHE6AO0T6MO</td>\n",
       "      <td>5</td>\n",
       "      <td>67</td>\n",
       "      <td>75</td>\n",
       "      <td>N</td>\n",
       "      <td>N</td>\n",
       "    </tr>\n",
       "    <tr>\n",
       "      <th>11973</th>\n",
       "      <td>R66RKRKYK3VMO</td>\n",
       "      <td>5</td>\n",
       "      <td>74</td>\n",
       "      <td>89</td>\n",
       "      <td>N</td>\n",
       "      <td>Y</td>\n",
       "    </tr>\n",
       "    <tr>\n",
       "      <th>12175</th>\n",
       "      <td>R1SVG06BEMESM</td>\n",
       "      <td>5</td>\n",
       "      <td>92</td>\n",
       "      <td>126</td>\n",
       "      <td>N</td>\n",
       "      <td>Y</td>\n",
       "    </tr>\n",
       "    <tr>\n",
       "      <th>12403</th>\n",
       "      <td>R1Q5MWSSP3RMYJ</td>\n",
       "      <td>1</td>\n",
       "      <td>25</td>\n",
       "      <td>29</td>\n",
       "      <td>N</td>\n",
       "      <td>Y</td>\n",
       "    </tr>\n",
       "  </tbody>\n",
       "</table>\n",
       "</div>"
      ],
      "text/plain": [
       "            review_id  star_rating  helpful_votes  total_votes vine  \\\n",
       "685    R36PQ9D8L2AAOH            5             30           32    N   \n",
       "1786   R23GHBE86II0SK            5             18           21    N   \n",
       "2020   R18KVPY0TO33BM            5            241          248    N   \n",
       "2429   R2ZB78BDM8BRCF            1             99          113    N   \n",
       "4971   R2JMJOWGM7V7NX            4             20           20    N   \n",
       "6104   R10ORTN0I3G5B9            1             19           26    N   \n",
       "6715   R1D1VPJBTP1WG8            1             38           51    N   \n",
       "6994   R3Q3ULUTULAQYH            1             22           29    N   \n",
       "7198   R1SHEELXA1IXQP            5             45           57    N   \n",
       "7341   R1IQJ99JOPJOE4            5             73           94    N   \n",
       "7608   R32PHGNOUNJVY2            1            111          150    N   \n",
       "7764   R32HQ18L7FOP3N            1             18           23    N   \n",
       "9166   R2IPGL0F4OCNO9            1             18           24    N   \n",
       "9405    R4RNS35ZXYWSU            2             52           59    N   \n",
       "10513   R5S7HIQAWL5QS            5             48           49    N   \n",
       "10652  R12LGU9RL181NG            1           5987         6323    N   \n",
       "11042  R1ZMHE6AO0T6MO            5             67           75    N   \n",
       "11973   R66RKRKYK3VMO            5             74           89    N   \n",
       "12175   R1SVG06BEMESM            5             92          126    N   \n",
       "12403  R1Q5MWSSP3RMYJ            1             25           29    N   \n",
       "\n",
       "      verified_purchase  \n",
       "685                   Y  \n",
       "1786                  Y  \n",
       "2020                  Y  \n",
       "2429                  Y  \n",
       "4971                  N  \n",
       "6104                  Y  \n",
       "6715                  Y  \n",
       "6994                  Y  \n",
       "7198                  Y  \n",
       "7341                  N  \n",
       "7608                  Y  \n",
       "7764                  N  \n",
       "9166                  N  \n",
       "9405                  Y  \n",
       "10513                 Y  \n",
       "10652                 Y  \n",
       "11042                 N  \n",
       "11973                 Y  \n",
       "12175                 Y  \n",
       "12403                 Y  "
      ]
     },
     "execution_count": 13,
     "metadata": {},
     "output_type": "execute_result"
    }
   ],
   "source": [
    "# Filter Dataframe to determine whether or not review was part of the Vine program (unpaid)\n",
    "non_vine_reviews = helpful_votes_df[helpful_votes_df['vine'] == 'N']\n",
    "non_vine_reviews.head(20)"
   ]
  },
  {
   "cell_type": "code",
   "execution_count": 14,
   "metadata": {},
   "outputs": [
    {
     "data": {
      "text/plain": [
       "355"
      ]
     },
     "execution_count": 14,
     "metadata": {},
     "output_type": "execute_result"
    }
   ],
   "source": [
    "# Total number of reviews\n",
    "total_reviews = len(helpful_votes_df)\n",
    "total_reviews"
   ]
  },
  {
   "cell_type": "code",
   "execution_count": 33,
   "metadata": {},
   "outputs": [
    {
     "data": {
      "text/plain": [
       "355"
      ]
     },
     "execution_count": 33,
     "metadata": {},
     "output_type": "execute_result"
    }
   ],
   "source": [
    "count_nonvine = len(non_vine_reviews)\n",
    "count_nonvine"
   ]
  },
  {
   "cell_type": "code",
   "execution_count": null,
   "metadata": {},
   "outputs": [
    {
     "data": {
      "text/plain": [
       "0"
      ]
     },
     "metadata": {},
     "output_type": "display_data"
    }
   ],
   "source": [
    "count_vine = len(vine_reviews)\n",
    "count_vine"
   ]
  },
  {
   "cell_type": "code",
   "execution_count": null,
   "metadata": {},
   "outputs": [
    {
     "data": {
      "text/plain": [
       "90"
      ]
     },
     "metadata": {},
     "output_type": "display_data"
    }
   ],
   "source": [
    "max_rating_nonvine = len(non_vine_reviews[non_vine_reviews['star_rating']==5])\n",
    "max_rating_nonvine"
   ]
  },
  {
   "cell_type": "code",
   "execution_count": null,
   "metadata": {},
   "outputs": [
    {
     "data": {
      "text/plain": [
       "0"
      ]
     },
     "metadata": {},
     "output_type": "display_data"
    }
   ],
   "source": [
    "max_rating_vine = len(vine_reviews[vine_reviews['star_rating']==5])\n",
    "max_rating_vine"
   ]
  },
  {
   "cell_type": "code",
   "execution_count": 19,
   "metadata": {},
   "outputs": [
    {
     "data": {
      "text/plain": [
       "0"
      ]
     },
     "execution_count": 19,
     "metadata": {},
     "output_type": "execute_result"
    }
   ],
   "source": [
    "# Number of 5-star reviews Vine\n",
    "\n",
    "vine_5_star = len(vine_reviews.loc[vine_reviews['star_rating'] == 5])\n",
    "vine_5_star"
   ]
  },
  {
   "cell_type": "code",
   "execution_count": 18,
   "metadata": {},
   "outputs": [
    {
     "data": {
      "text/plain": [
       "90"
      ]
     },
     "execution_count": 18,
     "metadata": {},
     "output_type": "execute_result"
    }
   ],
   "source": [
    "# Number of 5-star reviews non-vine\n",
    "\n",
    "non_vine_5_star = len(non_vine_reviews.loc[non_vine_reviews['star_rating'] == 5])\n",
    "non_vine_5_star"
   ]
  },
  {
   "cell_type": "code",
   "execution_count": 31,
   "metadata": {},
   "outputs": [
    {
     "name": "stdout",
     "output_type": "stream",
     "text": [
      "0.0 %\n"
     ]
    }
   ],
   "source": [
    "# Percentage of 5-star review (paid)\n",
    "\n",
    "vine_5_star_percent = vine_5_star/total_reviews * 100\n",
    "print(vine_5_star_percent, '%')"
   ]
  },
  {
   "cell_type": "code",
   "execution_count": 24,
   "metadata": {},
   "outputs": [
    {
     "name": "stdout",
     "output_type": "stream",
     "text": [
      "25.352112676056336 %\n"
     ]
    }
   ],
   "source": [
    "# Percentage of 5-star review (unpaid)\n",
    "\n",
    "non_vine_5_star_percent = non_vine_5_star/total_reviews * 100\n",
    "print(non_vine_5_star_percent, '%')"
   ]
  },
  {
   "cell_type": "code",
   "execution_count": 32,
   "metadata": {},
   "outputs": [
    {
     "data": {
      "text/plain": [
       "0.0"
      ]
     },
     "execution_count": 32,
     "metadata": {},
     "output_type": "execute_result"
    }
   ],
   "source": [
    "rating_vine = max_rating_vine/count_vine\n",
    "rating_vine"
   ]
  },
  {
   "cell_type": "code",
   "execution_count": 34,
   "metadata": {},
   "outputs": [
    {
     "data": {
      "text/plain": [
       "0.2535211267605634"
      ]
     },
     "execution_count": 34,
     "metadata": {},
     "output_type": "execute_result"
    }
   ],
   "source": [
    "rating_nonvine = max_rating_nonvine/count_nonvine\n",
    "rating_nonvine"
   ]
  }
 ],
 "metadata": {
  "kernelspec": {
   "display_name": "PythonData",
   "language": "python",
   "name": "python3"
  },
  "language_info": {
   "codemirror_mode": {
    "name": "ipython",
    "version": 3
   },
   "file_extension": ".py",
   "mimetype": "text/x-python",
   "name": "python",
   "nbconvert_exporter": "python",
   "pygments_lexer": "ipython3",
   "version": "3.7.13"
  },
  "orig_nbformat": 4,
  "vscode": {
   "interpreter": {
    "hash": "8f2804b5628703ad90e214132e5c1c9b6c8443b77deeb51a070cbe6227619886"
   }
  }
 },
 "nbformat": 4,
 "nbformat_minor": 2
}
